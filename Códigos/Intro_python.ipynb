{
 "cells": [
  {
   "cell_type": "markdown",
   "metadata": {},
   "source": [
    "# Introducción a Python\n",
    "\n",
    "\n",
    "Por : [Carlos Daniel Jiménez Martínez](www.danieljimenezm.com)\n",
    "\n",
    "\n",
    "**Objetivo del curso** : Presentar al estudiante las nociones básicas para trabajar en un entorno de *Big Data* con el software Python, el cual es uno de los lenguajes más usados para el trabajo de Machine Learning  e Ingeniería de datos.\n",
    "\n",
    "**Nociones de la clase**: \n",
    "\n",
    "    * Principios de programación\n",
    "    * Principios de manipulación de datos \n",
    "    * Sentencias básicas.\n",
    "    \n",
    "\n"
   ]
  },
  {
   "cell_type": "markdown",
   "metadata": {},
   "source": [
    "## Lo de siempre un \"Hello , World!\""
   ]
  },
  {
   "cell_type": "code",
   "execution_count": 18,
   "metadata": {},
   "outputs": [
    {
     "name": "stdout",
     "output_type": "stream",
     "text": [
      "Hello, World!!\n"
     ]
    }
   ],
   "source": [
    "# Se declara la sentencia de la siguiente forma\n",
    "\n",
    "print(\"Hello, World!!\")"
   ]
  },
  {
   "cell_type": "markdown",
   "metadata": {},
   "source": [
    "## ¿ Por qué Python ?\n",
    "\n",
    "Python no solo es uno de los lenguajes de programación más usados en la actualidad, sino que esta estrechamente ligado con el **Big Data**\n",
    "dado su poder de procesamiento y capacidad de integración.\n",
    "\n",
    "Si desea ver un poco más al respecto lo invito a que vaya al sigiuiente [link](http://www.wag.caltech.edu/home/rpm/python_course/) y si se desea especializar en el uso de la herramienta le recomiendo el siguiente [curso](http://www.wag.caltech.edu/home/rpm/python_course/)"
   ]
  },
  {
   "cell_type": "markdown",
   "metadata": {},
   "source": [
    "## Verificar la versión e instalación \n"
   ]
  },
  {
   "cell_type": "code",
   "execution_count": 19,
   "metadata": {},
   "outputs": [
    {
     "name": "stdout",
     "output_type": "stream",
     "text": [
      "Mi versión de Python es: 3.7.3 (default, Mar 27 2019, 16:54:48) \n",
      "[Clang 4.0.1 (tags/RELEASE_401/final)]\n"
     ]
    }
   ],
   "source": [
    "import sys\n",
    "\n",
    "print ('Mi versión de Python es:' , sys.version)"
   ]
  },
  {
   "cell_type": "markdown",
   "metadata": {},
   "source": [
    "Lo mismo puede hacerse con las librerías"
   ]
  },
  {
   "cell_type": "code",
   "execution_count": 22,
   "metadata": {},
   "outputs": [
    {
     "name": "stdout",
     "output_type": "stream",
     "text": [
      "Mi versión de Numpy es: 1.16.4\n"
     ]
    }
   ],
   "source": [
    "import numpy\n",
    "print ('Mi versión de Numpy es:',  numpy.__version__)"
   ]
  },
  {
   "cell_type": "markdown",
   "metadata": {},
   "source": [
    "## Python como calculadora"
   ]
  },
  {
   "cell_type": "code",
   "execution_count": 23,
   "metadata": {},
   "outputs": [
    {
     "name": "stdout",
     "output_type": "stream",
     "text": [
      "55\n"
     ]
    }
   ],
   "source": [
    "suma = 1+2+3+4+5+6+7+8+9+10\n",
    "print(suma)"
   ]
  },
  {
   "cell_type": "code",
   "execution_count": 24,
   "metadata": {},
   "outputs": [
    {
     "name": "stdout",
     "output_type": "stream",
     "text": [
      "42.0\n"
     ]
    }
   ],
   "source": [
    "Operaciones = (80*2 -6)/(11/3)\n",
    "print(Operaciones)"
   ]
  },
  {
   "cell_type": "markdown",
   "metadata": {},
   "source": [
    "Para operaciones más elaboradas hay que llamar a la librería [math](https://docs.python.org/3/library/math.html)"
   ]
  },
  {
   "cell_type": "code",
   "execution_count": 25,
   "metadata": {},
   "outputs": [
    {
     "data": {
      "text/plain": [
       "9.99999993922529e-09"
      ]
     },
     "execution_count": 25,
     "metadata": {},
     "output_type": "execute_result"
    }
   ],
   "source": [
    "import math  as math\n",
    "math.exp(1e-8) - 1"
   ]
  },
  {
   "cell_type": "code",
   "execution_count": 29,
   "metadata": {},
   "outputs": [
    {
     "data": {
      "text/plain": [
       "2.0"
      ]
     },
     "execution_count": 29,
     "metadata": {},
     "output_type": "execute_result"
    }
   ],
   "source": [
    "math.log10(100)"
   ]
  },
  {
   "cell_type": "code",
   "execution_count": 31,
   "metadata": {},
   "outputs": [
    {
     "data": {
      "text/plain": [
       "9.0"
      ]
     },
     "execution_count": 31,
     "metadata": {},
     "output_type": "execute_result"
    }
   ],
   "source": [
    "math.sqrt(81)"
   ]
  },
  {
   "cell_type": "code",
   "execution_count": 37,
   "metadata": {},
   "outputs": [
    {
     "name": "stdout",
     "output_type": "stream",
     "text": [
      "1.4706289056333368\n",
      "0.1001674211615598\n",
      "0.09966865249116204\n"
     ]
    }
   ],
   "source": [
    "## Algunas funciones trigonometricas \n",
    "import math as math\n",
    "print(math.acos(0.10))\n",
    "print(math.asin(0.10))\n",
    "print(math.atan(0.10))"
   ]
  },
  {
   "cell_type": "markdown",
   "metadata": {},
   "source": [
    "## Concatenando funciones "
   ]
  },
  {
   "cell_type": "code",
   "execution_count": 39,
   "metadata": {},
   "outputs": [
    {
     "name": "stdout",
     "output_type": "stream",
     "text": [
      "El valor futuro de $20002.4148638518834997e+51\n"
     ]
    }
   ],
   "source": [
    "VA = 2000\n",
    "Int = 4.64\n",
    "N = 64 \n",
    "VF = VA * (1 + Int)**N\n",
    "print ('El valor futuro de $2000' + str(VF))"
   ]
  },
  {
   "cell_type": "markdown",
   "metadata": {},
   "source": [
    "![](https://media.giphy.com/media/EldfH1VJdbrwY/giphy.gif)"
   ]
  },
  {
   "cell_type": "markdown",
   "metadata": {
    "jupyter": {
     "source_hidden": true
    }
   },
   "source": [
    "## Listas \n"
   ]
  },
  {
   "cell_type": "code",
   "execution_count": 40,
   "metadata": {},
   "outputs": [
    {
     "name": "stdout",
     "output_type": "stream",
     "text": [
      "['Mat', 'Soc', 'Bio', 'Filo']\n"
     ]
    }
   ],
   "source": [
    "Clases_de_la_u = [\"Mat\",\"Soc\",\"Bio\",\"Filo\"]\n",
    "print(Clases_de_la_u)"
   ]
  },
  {
   "cell_type": "code",
   "execution_count": 41,
   "metadata": {},
   "outputs": [
    {
     "data": {
      "text/plain": [
       "'Bio'"
      ]
     },
     "execution_count": 41,
     "metadata": {},
     "output_type": "execute_result"
    }
   ],
   "source": [
    "# Para extraer un elemento de la lista \n",
    "Clases_de_la_u[2]"
   ]
  },
  {
   "cell_type": "code",
   "execution_count": 42,
   "metadata": {},
   "outputs": [
    {
     "name": "stdout",
     "output_type": "stream",
     "text": [
      "['Mat', 'Soc', 'Bio', 'Filo', 'Historia']\n"
     ]
    }
   ],
   "source": [
    "# Anexar variables a una lista\n",
    "Clases_de_la_u.append(\"Historia\")\n",
    "print(Clases_de_la_u)"
   ]
  },
  {
   "cell_type": "code",
   "execution_count": 44,
   "metadata": {},
   "outputs": [
    {
     "data": {
      "text/plain": [
       "[0, 1, 2, 3, 4, 5, 6, 7, 8, 9]"
      ]
     },
     "execution_count": 44,
     "metadata": {},
     "output_type": "execute_result"
    }
   ],
   "source": [
    "## Generar una lista rangeada\n",
    "list(range(10))"
   ]
  },
  {
   "cell_type": "code",
   "execution_count": 46,
   "metadata": {},
   "outputs": [
    {
     "data": {
      "text/plain": [
       "[2, 3, 4, 5, 6, 7, 8, 9]"
      ]
     },
     "execution_count": 46,
     "metadata": {},
     "output_type": "execute_result"
    }
   ],
   "source": [
    "## Si se desea desarrollar una lista bajo condiciones\n",
    "\n",
    "list(range(2,10))"
   ]
  },
  {
   "cell_type": "code",
   "execution_count": 48,
   "metadata": {},
   "outputs": [
    {
     "data": {
      "text/plain": [
       "[2, 4, 6, 8]"
      ]
     },
     "execution_count": 48,
     "metadata": {},
     "output_type": "execute_result"
    }
   ],
   "source": [
    "## Crear mayores condiciones\n",
    "\n",
    "list(range(2,10,2))"
   ]
  },
  {
   "cell_type": "code",
   "execution_count": 56,
   "metadata": {},
   "outputs": [
    {
     "name": "stdout",
     "output_type": "stream",
     "text": [
      "[0, 2, 4, 6, 8, 10, 12, 14, 16, 18, 20, 22, 24, 26, 28]\n",
      "Este es un elemento de la lista 6\n"
     ]
    }
   ],
   "source": [
    "## Crear y extraer elementos de una lista\n",
    "Eventos = list(range(0,30,2))\n",
    "print(Eventos)\n",
    "print('Este es un elemento de la lista', str(Eventos[3]))"
   ]
  },
  {
   "cell_type": "code",
   "execution_count": 57,
   "metadata": {},
   "outputs": [
    {
     "name": "stdout",
     "output_type": "stream",
     "text": [
      "['Monday', 4, 5, 'Celso Piña']\n"
     ]
    }
   ],
   "source": [
    "## Las listas no tienen que ser del mismo tipo\n",
    "\n",
    "Random_evens = [\"Monday\",4,5,\"Celso Piña\"]\n",
    "print(Random_evens)"
   ]
  },
  {
   "cell_type": "code",
   "execution_count": 58,
   "metadata": {},
   "outputs": [
    {
     "data": {
      "text/plain": [
       "4"
      ]
     },
     "execution_count": 58,
     "metadata": {},
     "output_type": "execute_result"
    }
   ],
   "source": [
    "## Para conocer cuantos elementos hay dentro de una lista\n",
    "len(Random_evens)"
   ]
  },
  {
   "cell_type": "markdown",
   "metadata": {},
   "source": [
    "## Iteracciones "
   ]
  },
  {
   "cell_type": "code",
   "execution_count": 59,
   "metadata": {},
   "outputs": [
    {
     "name": "stdout",
     "output_type": "stream",
     "text": [
      "Mat\n",
      "Soc\n",
      "Bio\n",
      "Filo\n",
      "Historia\n"
     ]
    }
   ],
   "source": [
    "for clase in Clases_de_la_u:\n",
    "    print (clase)"
   ]
  },
  {
   "cell_type": "code",
   "execution_count": 61,
   "metadata": {},
   "outputs": [
    {
     "name": "stdout",
     "output_type": "stream",
     "text": [
      "Esta es la clase de  Mat\n",
      "Esta es la clase de  Soc\n",
      "Esta es la clase de  Bio\n",
      "Esta es la clase de  Filo\n",
      "Esta es la clase de  Historia\n"
     ]
    }
   ],
   "source": [
    "## Un poco más trabajado\n",
    "\n",
    "for clase in Clases_de_la_u:\n",
    "    print(\"Esta es la clase de \", str(clase))"
   ]
  },
  {
   "cell_type": "code",
   "execution_count": 62,
   "metadata": {},
   "outputs": [
    {
     "name": "stdout",
     "output_type": "stream",
     "text": [
      "Hoy hay clase de Mat\n",
      "Hoy hay clase de Soc\n",
      "Hoy hay clase de Bio\n",
      "Hoy hay clase de Filo\n",
      "Hoy hay clase de Historia\n"
     ]
    }
   ],
   "source": [
    "## Una estructura más competente\n",
    "\n",
    "for clase in Clases_de_la_u:\n",
    "    statement = \"Hoy hay clase de \" + clase\n",
    "    print (statement)"
   ]
  },
  {
   "cell_type": "code",
   "execution_count": 63,
   "metadata": {},
   "outputs": [
    {
     "name": "stdout",
     "output_type": "stream",
     "text": [
      "El cuadrado de  0 es 0\n",
      "El cuadrado de  1 es 1\n",
      "El cuadrado de  2 es 4\n",
      "El cuadrado de  3 es 9\n",
      "El cuadrado de  4 es 16\n",
      "El cuadrado de  5 es 25\n",
      "El cuadrado de  6 es 36\n",
      "El cuadrado de  7 es 49\n",
      "El cuadrado de  8 es 64\n",
      "El cuadrado de  9 es 81\n",
      "El cuadrado de  10 es 100\n"
     ]
    }
   ],
   "source": [
    "## Iteraciones con Rangos\n",
    "for i in range(11):\n",
    "    print(\"El cuadrado de \",i, \"es\", i*i)"
   ]
  },
  {
   "cell_type": "markdown",
   "metadata": {},
   "source": [
    "## Cortar iteraciones"
   ]
  },
  {
   "cell_type": "code",
   "execution_count": 64,
   "metadata": {},
   "outputs": [
    {
     "name": "stdout",
     "output_type": "stream",
     "text": [
      "J\n",
      "u\n",
      "r\n",
      "i\n",
      "s\n",
      "d\n",
      "i\n",
      "c\n",
      "c\n",
      "i\n",
      "ó\n",
      "n\n",
      " \n",
      "E\n",
      "s\n",
      "p\n",
      "e\n",
      "c\n",
      "i\n",
      "a\n",
      "l\n",
      " \n",
      "p\n",
      "a\n",
      "r\n",
      "a\n",
      " \n",
      "l\n",
      "a\n",
      " \n",
      "P\n",
      "a\n",
      "z\n"
     ]
    }
   ],
   "source": [
    "for letter in \"Jurisdicción Especial para la Paz\":\n",
    "    print (letter)"
   ]
  },
  {
   "cell_type": "code",
   "execution_count": 67,
   "metadata": {},
   "outputs": [
    {
     "data": {
      "text/plain": [
       "['Mat', 'Soc']"
      ]
     },
     "execution_count": 67,
     "metadata": {},
     "output_type": "execute_result"
    }
   ],
   "source": [
    "## Para extraer varios elementos de una lista\n",
    "Clases_de_la_u[0:2]"
   ]
  },
  {
   "cell_type": "code",
   "execution_count": 68,
   "metadata": {},
   "outputs": [
    {
     "data": {
      "text/plain": [
       "['Mat', 'Soc']"
      ]
     },
     "execution_count": 68,
     "metadata": {},
     "output_type": "execute_result"
    }
   ],
   "source": [
    "## Otra manera de hacerlo\n",
    "Clases_de_la_u[:2]"
   ]
  },
  {
   "cell_type": "code",
   "execution_count": 69,
   "metadata": {},
   "outputs": [
    {
     "name": "stdout",
     "output_type": "stream",
     "text": [
      "Mate\n"
     ]
    }
   ],
   "source": [
    "## Crear Abreviaciones \n",
    "Clase = \"Matemáticas\"\n",
    "Abreviatura = Clase[:4]\n",
    "print(Abreviatura)"
   ]
  },
  {
   "cell_type": "code",
   "execution_count": 70,
   "metadata": {},
   "outputs": [
    {
     "data": {
      "text/plain": [
       "[2, 4, 6, 8, 10, 12, 14, 16, 18, 20, 22, 24, 26, 28]"
      ]
     },
     "execution_count": 70,
     "metadata": {},
     "output_type": "execute_result"
    }
   ],
   "source": [
    "Numeros = list(range(0,30))\n",
    "Eventos = Numeros[2::2]\n",
    "Eventos"
   ]
  },
  {
   "cell_type": "markdown",
   "metadata": {},
   "source": [
    "## Booleanos y Pruebas de verdad"
   ]
  },
  {
   "cell_type": "code",
   "execution_count": 75,
   "metadata": {},
   "outputs": [
    {
     "name": "stdout",
     "output_type": "stream",
     "text": [
      "Las otras asignaturas son de contexto\n"
     ]
    }
   ],
   "source": [
    "if clase == \"Mat\":\n",
    "    print(\"Es la mejor clase\")\n",
    "else :\n",
    "        print(\"Las otras asignaturas son de contexto\")"
   ]
  },
  {
   "cell_type": "code",
   "execution_count": 77,
   "metadata": {},
   "outputs": [
    {
     "data": {
      "text/plain": [
       "False"
      ]
     },
     "execution_count": 77,
     "metadata": {},
     "output_type": "execute_result"
    }
   ],
   "source": [
    "clase == \"Mat\""
   ]
  },
  {
   "cell_type": "code",
   "execution_count": 78,
   "metadata": {},
   "outputs": [
    {
     "data": {
      "text/plain": [
       "False"
      ]
     },
     "execution_count": 78,
     "metadata": {},
     "output_type": "execute_result"
    }
   ],
   "source": [
    " 3 == 9"
   ]
  },
  {
   "cell_type": "code",
   "execution_count": 79,
   "metadata": {},
   "outputs": [
    {
     "data": {
      "text/plain": [
       "True"
      ]
     },
     "execution_count": 79,
     "metadata": {},
     "output_type": "execute_result"
    }
   ],
   "source": [
    "25 == 5*5"
   ]
  },
  {
   "cell_type": "code",
   "execution_count": 80,
   "metadata": {},
   "outputs": [
    {
     "data": {
      "text/plain": [
       "True"
      ]
     },
     "execution_count": 80,
     "metadata": {},
     "output_type": "execute_result"
    }
   ],
   "source": [
    "25>5"
   ]
  },
  {
   "cell_type": "code",
   "execution_count": 81,
   "metadata": {},
   "outputs": [
    {
     "data": {
      "text/plain": [
       "False"
      ]
     },
     "execution_count": 81,
     "metadata": {},
     "output_type": "execute_result"
    }
   ],
   "source": [
    "5>25"
   ]
  },
  {
   "cell_type": "code",
   "execution_count": 82,
   "metadata": {},
   "outputs": [
    {
     "data": {
      "text/plain": [
       "False"
      ]
     },
     "execution_count": 82,
     "metadata": {},
     "output_type": "execute_result"
    }
   ],
   "source": [
    "2 is 2.0"
   ]
  },
  {
   "cell_type": "code",
   "execution_count": 83,
   "metadata": {},
   "outputs": [
    {
     "data": {
      "text/plain": [
       "False"
      ]
     },
     "execution_count": 83,
     "metadata": {},
     "output_type": "execute_result"
    }
   ],
   "source": [
    "[3,4,5] == [3,4,6]"
   ]
  },
  {
   "cell_type": "code",
   "execution_count": 84,
   "metadata": {},
   "outputs": [
    {
     "data": {
      "text/plain": [
       "True"
      ]
     },
     "execution_count": 84,
     "metadata": {},
     "output_type": "execute_result"
    }
   ],
   "source": [
    "[3,4,5] < [3,4,6]"
   ]
  },
  {
   "cell_type": "code",
   "execution_count": 85,
   "metadata": {},
   "outputs": [
    {
     "name": "stdout",
     "output_type": "stream",
     "text": [
      "Es una clase reflexiva\n"
     ]
    }
   ],
   "source": [
    "## Utilizando varias condicionales a la vez\n",
    "\n",
    "if clase == \"Mat\":\n",
    "    print(\"Es una clase de contexto\")\n",
    "elif clase == \"Historia\":\n",
    "    print(\"Es una clase reflexiva\")\n",
    "else:\n",
    "    print(\"Es una clase de abstracción\")"
   ]
  },
  {
   "cell_type": "code",
   "execution_count": 86,
   "metadata": {},
   "outputs": [
    {
     "name": "stdout",
     "output_type": "stream",
     "text": [
      "Es la clase de Mat\n",
      " La más divertida\n",
      "Es la clase de Soc\n",
      "No se ni que son\n",
      "Es la clase de Bio\n",
      "No se ni que son\n",
      "Es la clase de Filo\n",
      "No se ni que son\n",
      "Es la clase de Historia\n",
      "La que mayor abarca temas\n"
     ]
    }
   ],
   "source": [
    "## Una forma más completa\n",
    "\n",
    "for clase in Clases_de_la_u:\n",
    "    statement = \"Es la clase de \" + clase\n",
    "    print(statement)\n",
    "    if clase == \"Mat\":\n",
    "        print (\" La más divertida\")\n",
    "    elif clase == \"Historia\":\n",
    "        print(\"La que mayor abarca temas\")\n",
    "    else :\n",
    "        print (\"No se ni que son\")\n",
    "    "
   ]
  },
  {
   "cell_type": "markdown",
   "metadata": {},
   "source": [
    "# Ejemplo Clásico\n",
    "## Fibonacci \n"
   ]
  },
  {
   "cell_type": "markdown",
   "metadata": {},
   "source": [
    "![](http://quantdar-cp192.wordpresstemporal.com/wp-content/uploads/2014/09/sin-tc3adtulo3.png)"
   ]
  },
  {
   "cell_type": "markdown",
   "metadata": {},
   "source": [
    "### Función explicita\n",
    "\n",
    "![](https://quantdare.com/wp-content/uploads/2014/09/sin-tc3adtulo5.png)"
   ]
  },
  {
   "cell_type": "markdown",
   "metadata": {},
   "source": [
    "### Función generadora\n",
    "![](https://quantdare.com/wp-content/uploads/2014/09/sin-tc3adtulo4.png)"
   ]
  },
  {
   "cell_type": "code",
   "execution_count": 89,
   "metadata": {},
   "outputs": [
    {
     "name": "stdout",
     "output_type": "stream",
     "text": [
      "[0, 1, 1]\n",
      "[0, 1, 1, 2]\n",
      "[0, 1, 1, 2, 3]\n",
      "[0, 1, 1, 2, 3, 5]\n",
      "[0, 1, 1, 2, 3, 5, 8]\n",
      "[0, 1, 1, 2, 3, 5, 8, 13]\n",
      "[0, 1, 1, 2, 3, 5, 8, 13, 21]\n",
      "[0, 1, 1, 2, 3, 5, 8, 13, 21, 34]\n"
     ]
    }
   ],
   "source": [
    "n = 10\n",
    "sequence = [0,1]\n",
    "for i in range (2,n):\n",
    "    sequence.append(sequence[i-1] + sequence[i-2])\n",
    "    print(sequence)"
   ]
  },
  {
   "cell_type": "markdown",
   "metadata": {},
   "source": [
    "## Creación de funciones"
   ]
  },
  {
   "cell_type": "code",
   "execution_count": 94,
   "metadata": {},
   "outputs": [],
   "source": [
    "def fibonacci(sequence_length):\n",
    "    sequence = [0,1]\n",
    "    if sequence_length < 1:\n",
    "        print(\"La secuencia definida\")\n",
    "        return\n",
    "    if 0 < sequence_length < 3:\n",
    "        return sequence[:sequence_length]\n",
    "    for i in range(2,sequence_length): \n",
    "        sequence.append(sequence[i-1]+sequence[i-2])\n",
    "    return sequence"
   ]
  },
  {
   "cell_type": "code",
   "execution_count": 95,
   "metadata": {},
   "outputs": [
    {
     "data": {
      "text/plain": [
       "[0, 1, 1, 2, 3]"
      ]
     },
     "execution_count": 95,
     "metadata": {},
     "output_type": "execute_result"
    }
   ],
   "source": [
    "fibonacci(5)"
   ]
  },
  {
   "cell_type": "code",
   "execution_count": 96,
   "metadata": {},
   "outputs": [
    {
     "name": "stdout",
     "output_type": "stream",
     "text": [
      "Help on function fibonacci in module __main__:\n",
      "\n",
      "fibonacci(sequence_length)\n",
      "\n"
     ]
    }
   ],
   "source": [
    "## Para mirar la estructura de la función \n",
    "help(fibonacci)"
   ]
  },
  {
   "cell_type": "markdown",
   "metadata": {},
   "source": [
    "## Tuplas y Diccionarios\n"
   ]
  },
  {
   "cell_type": "code",
   "execution_count": 97,
   "metadata": {},
   "outputs": [
    {
     "name": "stdout",
     "output_type": "stream",
     "text": [
      "(2, 3, 'Portugal', 9, 5.5)\n"
     ]
    }
   ],
   "source": [
    "tupla = (2,3,'Portugal',9,11/2)\n",
    "print(tupla)"
   ]
  },
  {
   "cell_type": "code",
   "execution_count": 98,
   "metadata": {},
   "outputs": [
    {
     "data": {
      "text/plain": [
       "'Portugal'"
      ]
     },
     "execution_count": 98,
     "metadata": {},
     "output_type": "execute_result"
    }
   ],
   "source": [
    "## Extraer un elemento\n",
    "tupla[2]"
   ]
  },
  {
   "cell_type": "code",
   "execution_count": 99,
   "metadata": {},
   "outputs": [
    {
     "ename": "AttributeError",
     "evalue": "'tuple' object has no attribute 'append'",
     "output_type": "error",
     "traceback": [
      "\u001b[0;31m---------------------------------------------------------------------------\u001b[0m",
      "\u001b[0;31mAttributeError\u001b[0m                            Traceback (most recent call last)",
      "\u001b[0;32m<ipython-input-99-8aa2ad19768b>\u001b[0m in \u001b[0;36m<module>\u001b[0;34m\u001b[0m\n\u001b[1;32m      1\u001b[0m \u001b[0;31m## ¿ Qué pasaría si intento agregar un dato?\u001b[0m\u001b[0;34m\u001b[0m\u001b[0;34m\u001b[0m\u001b[0;34m\u001b[0m\u001b[0m\n\u001b[1;32m      2\u001b[0m \u001b[0;34m\u001b[0m\u001b[0m\n\u001b[0;32m----> 3\u001b[0;31m \u001b[0mtupla\u001b[0m\u001b[0;34m.\u001b[0m\u001b[0mappend\u001b[0m\u001b[0;34m(\u001b[0m\u001b[0;34m'Sara'\u001b[0m\u001b[0;34m)\u001b[0m\u001b[0;34m\u001b[0m\u001b[0;34m\u001b[0m\u001b[0m\n\u001b[0m",
      "\u001b[0;31mAttributeError\u001b[0m: 'tuple' object has no attribute 'append'"
     ]
    }
   ],
   "source": [
    "## ¿ Qué pasaría si intento agregar un dato?\n",
    "\n",
    "tupla.append('Sara')"
   ]
  },
  {
   "cell_type": "code",
   "execution_count": 100,
   "metadata": {},
   "outputs": [
    {
     "data": {
      "text/plain": [
       "3"
      ]
     },
     "execution_count": 100,
     "metadata": {},
     "output_type": "execute_result"
    }
   ],
   "source": [
    "tupla[1]"
   ]
  },
  {
   "cell_type": "code",
   "execution_count": 101,
   "metadata": {},
   "outputs": [],
   "source": [
    "## Colección de tuplas\n",
    "\n",
    "alfa = [\n",
    "    ('Bogotá',1,2),\n",
    "    ('Barranquilla',3,4),\n",
    "    ('Medellín',5,6)\n",
    "]"
   ]
  },
  {
   "cell_type": "code",
   "execution_count": 102,
   "metadata": {},
   "outputs": [
    {
     "name": "stdout",
     "output_type": "stream",
     "text": [
      "[('Bogotá', 1, 2), ('Barranquilla', 3, 4), ('Medellín', 5, 6)]\n"
     ]
    }
   ],
   "source": [
    "print(alfa)"
   ]
  },
  {
   "cell_type": "code",
   "execution_count": 106,
   "metadata": {},
   "outputs": [
    {
     "name": "stdout",
     "output_type": "stream",
     "text": [
      "1.0 2.2\n"
     ]
    }
   ],
   "source": [
    "## Se pueden usar las tuplas para generar una función que genere más de un \n",
    "## Resultado. A esto se le llama objetos.\n",
    "\n",
    "posiciones = [\n",
    "             ('Aire',1.0,23.0),\n",
    "             ('Agua',8.5,7.1),\n",
    "             ('Fuego',13.0,2.2)\n",
    "             ]\n",
    "\n",
    "def minmax(objetos):\n",
    "    minx = 1e20 \n",
    "    miny = 1e20\n",
    "    for obj in objetos:\n",
    "        name,x,y = obj\n",
    "        if x < minx: \n",
    "            minx = x\n",
    "        if y < miny:\n",
    "            miny = y\n",
    "    return minx,miny\n",
    "\n",
    "x,y = minmax(posiciones)\n",
    "print(x,y)"
   ]
  },
  {
   "cell_type": "markdown",
   "metadata": {},
   "source": [
    "## Diccionarios\n"
   ]
  },
  {
   "cell_type": "code",
   "execution_count": 107,
   "metadata": {},
   "outputs": [
    {
     "name": "stdout",
     "output_type": "stream",
     "text": [
      "Esta es una lista [1, 2, 3, 4, 5, 5, 6]\n"
     ]
    }
   ],
   "source": [
    "lista = [1,2,3,4,5,5,6]\n",
    "print('Esta es una lista', str(lista))"
   ]
  },
  {
   "cell_type": "code",
   "execution_count": 108,
   "metadata": {},
   "outputs": [
    {
     "name": "stdout",
     "output_type": "stream",
     "text": [
      "La edad de Maria es 40\n"
     ]
    }
   ],
   "source": [
    "Edades = {\"Alicia\":4,\"Carlos\":31,\"Maria\":40,\"Freud\":21}\n",
    "print(\"La edad de Maria es\",Edades[\"Maria\"])"
   ]
  },
  {
   "cell_type": "markdown",
   "metadata": {},
   "source": [
    "## Numpy y Scipy para la manipulación y el tratamiento de datos"
   ]
  },
  {
   "cell_type": "markdown",
   "metadata": {},
   "source": [
    "![](data:image/jpeg;base64,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)"
   ]
  },
  {
   "cell_type": "markdown",
   "metadata": {},
   "source": [
    "NumPy es una extensión de Python, que le agrega mayor soporte para vectores y matrices, constituyendo una biblioteca de funciones matemáticas de alto nivel para operar con esos vectores o matrices. El ancestro de NumPy, Numeric, fue creado originalmente por Jim Hugunin con algunas contribuciones de otros desarrolladores. En 2005, Travis Oliphant creó NumPy incorporando características de Numarray en NumPy con algunas modificaciones. NumPy es open source. **Tomado de Wikipedia**"
   ]
  },
  {
   "cell_type": "markdown",
   "metadata": {},
   "source": [
    "## Crear vectores y matrices\n"
   ]
  },
  {
   "cell_type": "code",
   "execution_count": 109,
   "metadata": {},
   "outputs": [],
   "source": [
    "import numpy as np\n",
    "import scipy as sp"
   ]
  },
  {
   "cell_type": "code",
   "execution_count": 110,
   "metadata": {},
   "outputs": [
    {
     "data": {
      "text/plain": [
       "array([ 1,  2,  3,  4,  5,  6,  7,  8,  9, 10])"
      ]
     },
     "execution_count": 110,
     "metadata": {},
     "output_type": "execute_result"
    }
   ],
   "source": [
    "Array = np.array([1,2,3,4,5,6,7,8,9,10])\n",
    "Array"
   ]
  },
  {
   "cell_type": "code",
   "execution_count": 111,
   "metadata": {},
   "outputs": [
    {
     "data": {
      "text/plain": [
       "(10,)"
      ]
     },
     "execution_count": 111,
     "metadata": {},
     "output_type": "execute_result"
    }
   ],
   "source": [
    "## Para saber el tamaño del array\n",
    "Array.shape"
   ]
  },
  {
   "cell_type": "markdown",
   "metadata": {},
   "source": [
    "## Matrices\n"
   ]
  },
  {
   "cell_type": "code",
   "execution_count": 113,
   "metadata": {},
   "outputs": [
    {
     "data": {
      "text/plain": [
       "array([[1, 0, 0],\n",
       "       [0, 1, 0],\n",
       "       [0, 0, 1]])"
      ]
     },
     "execution_count": 113,
     "metadata": {},
     "output_type": "execute_result"
    }
   ],
   "source": [
    "Matrix = np.array([[1,0,0],[0,1,0],[0,0,1]])\n",
    "Matrix"
   ]
  },
  {
   "cell_type": "code",
   "execution_count": 115,
   "metadata": {},
   "outputs": [
    {
     "data": {
      "text/plain": [
       "array([[1., 0., 0., 1.],\n",
       "       [0., 1., 0., 1.],\n",
       "       [0., 0., 1., 1.]])"
      ]
     },
     "execution_count": 115,
     "metadata": {},
     "output_type": "execute_result"
    }
   ],
   "source": [
    "## Crear matriz de unos\n",
    "\n",
    "Matrix2 = np.c_[Matrix,np.ones(3)]\n",
    "Matrix2"
   ]
  },
  {
   "cell_type": "code",
   "execution_count": 117,
   "metadata": {},
   "outputs": [
    {
     "data": {
      "text/plain": [
       "(3, 4)"
      ]
     },
     "execution_count": 117,
     "metadata": {},
     "output_type": "execute_result"
    }
   ],
   "source": [
    "# Tamaño de la matriz\n",
    "Matrix2.shape"
   ]
  },
  {
   "cell_type": "code",
   "execution_count": 118,
   "metadata": {},
   "outputs": [
    {
     "data": {
      "text/plain": [
       "array([[0., 0., 0., 0.],\n",
       "       [0., 0., 0., 0.],\n",
       "       [0., 0., 0., 0.],\n",
       "       [0., 0., 0., 0.]])"
      ]
     },
     "execution_count": 118,
     "metadata": {},
     "output_type": "execute_result"
    }
   ],
   "source": [
    "## Matriz de ceros\n",
    "\n",
    "np.zeros((4,4))"
   ]
  },
  {
   "cell_type": "code",
   "execution_count": 119,
   "metadata": {},
   "outputs": [
    {
     "data": {
      "text/plain": [
       "array([[1., 0., 0., 0., 0., 0., 0., 0.],\n",
       "       [0., 1., 0., 0., 0., 0., 0., 0.],\n",
       "       [0., 0., 1., 0., 0., 0., 0., 0.],\n",
       "       [0., 0., 0., 1., 0., 0., 0., 0.],\n",
       "       [0., 0., 0., 0., 1., 0., 0., 0.],\n",
       "       [0., 0., 0., 0., 0., 1., 0., 0.],\n",
       "       [0., 0., 0., 0., 0., 0., 1., 0.],\n",
       "       [0., 0., 0., 0., 0., 0., 0., 1.]])"
      ]
     },
     "execution_count": 119,
     "metadata": {},
     "output_type": "execute_result"
    }
   ],
   "source": [
    "## Matriz identidad\n",
    "np.identity(8)"
   ]
  },
  {
   "cell_type": "markdown",
   "metadata": {},
   "source": [
    "## Gráficos , funciones de matrices y linspace"
   ]
  },
  {
   "cell_type": "markdown",
   "metadata": {},
   "source": [
    "Los **Linspace** son operaciones de matrices que crean valores de un **first data** hasta un **objetive**"
   ]
  },
  {
   "cell_type": "code",
   "execution_count": 120,
   "metadata": {},
   "outputs": [
    {
     "data": {
      "text/plain": [
       "array([2.        , 2.14285714, 2.28571429, 2.42857143, 2.57142857,\n",
       "       2.71428571, 2.85714286, 3.        , 3.14285714, 3.28571429,\n",
       "       3.42857143, 3.57142857, 3.71428571, 3.85714286, 4.        ,\n",
       "       4.14285714, 4.28571429, 4.42857143, 4.57142857, 4.71428571,\n",
       "       4.85714286, 5.        , 5.14285714, 5.28571429, 5.42857143,\n",
       "       5.57142857, 5.71428571, 5.85714286, 6.        , 6.14285714,\n",
       "       6.28571429, 6.42857143, 6.57142857, 6.71428571, 6.85714286,\n",
       "       7.        , 7.14285714, 7.28571429, 7.42857143, 7.57142857,\n",
       "       7.71428571, 7.85714286, 8.        , 8.14285714, 8.28571429,\n",
       "       8.42857143, 8.57142857, 8.71428571, 8.85714286, 9.        ])"
      ]
     },
     "execution_count": 120,
     "metadata": {},
     "output_type": "execute_result"
    }
   ],
   "source": [
    "np.linspace(2,9)"
   ]
  },
  {
   "cell_type": "markdown",
   "metadata": {},
   "source": [
    "Se puede crear el argumento con un número de posiciones y secuencias\n"
   ]
  },
  {
   "cell_type": "code",
   "execution_count": 121,
   "metadata": {},
   "outputs": [
    {
     "data": {
      "text/plain": [
       "array([2. , 2.7, 3.4, 4.1, 4.8, 5.5, 6.2, 6.9, 7.6, 8.3, 9. ])"
      ]
     },
     "execution_count": 121,
     "metadata": {},
     "output_type": "execute_result"
    }
   ],
   "source": [
    "np.linspace(2,9,11)"
   ]
  },
  {
   "cell_type": "markdown",
   "metadata": {},
   "source": [
    "Se puede usar para el desarrollo de coordenadas"
   ]
  },
  {
   "cell_type": "code",
   "execution_count": 122,
   "metadata": {},
   "outputs": [
    {
     "data": {
      "text/plain": [
       "array([ 1.        ,  0.96729486,  0.8713187 ,  0.71834935,  0.51839257,\n",
       "        0.28452759,  0.03205158, -0.22252093, -0.46253829, -0.67230089,\n",
       "       -0.8380881 , -0.94905575, -0.99794539, -0.98155916, -0.90096887,\n",
       "       -0.76144596, -0.57211666, -0.34536505, -0.09602303,  0.1595999 ,\n",
       "        0.40478334,  0.6234898 ,  0.80141362,  0.92691676,  0.99179001,\n",
       "        0.99179001,  0.92691676,  0.80141362,  0.6234898 ,  0.40478334,\n",
       "        0.1595999 , -0.09602303, -0.34536505, -0.57211666, -0.76144596,\n",
       "       -0.90096887, -0.98155916, -0.99794539, -0.94905575, -0.8380881 ,\n",
       "       -0.67230089, -0.46253829, -0.22252093,  0.03205158,  0.28452759,\n",
       "        0.51839257,  0.71834935,  0.8713187 ,  0.96729486,  1.        ])"
      ]
     },
     "execution_count": 122,
     "metadata": {},
     "output_type": "execute_result"
    }
   ],
   "source": [
    "x = np.linspace(0,4 * np.pi)\n",
    "np.cos(x)"
   ]
  },
  {
   "cell_type": "code",
   "execution_count": 124,
   "metadata": {},
   "outputs": [],
   "source": [
    "%matplotlib inline\n",
    "import matplotlib.pyplot as plt\n",
    "plt.style.use('seaborn-ticks')"
   ]
  },
  {
   "cell_type": "code",
   "execution_count": 125,
   "metadata": {},
   "outputs": [
    {
     "data": {
      "text/plain": [
       "[<matplotlib.lines.Line2D at 0x120620128>]"
      ]
     },
     "execution_count": 125,
     "metadata": {},
     "output_type": "execute_result"
    },
    {
     "data": {
      "image/png": "[encoded data removed]",
      "text/plain": [
       "<Figure size 432x288 with 1 Axes>"
      ]
     },
     "metadata": {},
     "output_type": "display_data"
    }
   ],
   "source": [
    "plt.plot(x,np.cos(x))"
   ]
  },
  {
   "cell_type": "markdown",
   "metadata": {},
   "source": [
    "## Operaciones de matrices\n"
   ]
  },
  {
   "cell_type": "code",
   "execution_count": 126,
   "metadata": {},
   "outputs": [
    {
     "data": {
      "text/plain": [
       "array([[3., 0., 0.],\n",
       "       [0., 3., 0.],\n",
       "       [0., 0., 3.]])"
      ]
     },
     "execution_count": 126,
     "metadata": {},
     "output_type": "execute_result"
    }
   ],
   "source": [
    "## Escalar\n",
    "3 * np.identity(3) "
   ]
  },
  {
   "cell_type": "code",
   "execution_count": 127,
   "metadata": {},
   "outputs": [
    {
     "data": {
      "text/plain": [
       "array([[3., 3.],\n",
       "       [4., 6.]])"
      ]
     },
     "execution_count": 127,
     "metadata": {},
     "output_type": "execute_result"
    }
   ],
   "source": [
    "## Suma de matrices con operaciones de multiplicación\n",
    "\n",
    "np.identity(2) + np.array([[2,3],[4,5]])"
   ]
  },
  {
   "cell_type": "code",
   "execution_count": 128,
   "metadata": {},
   "outputs": [
    {
     "data": {
      "text/plain": [
       "array([[1., 0., 0.],\n",
       "       [0., 1., 0.],\n",
       "       [0., 0., 1.]])"
      ]
     },
     "execution_count": 128,
     "metadata": {},
     "output_type": "execute_result"
    }
   ],
   "source": [
    "## Multiplicación de matrices\n",
    "np.identity(3)*np.ones((3,3))"
   ]
  },
  {
   "cell_type": "code",
   "execution_count": 135,
   "metadata": {},
   "outputs": [
    {
     "data": {
      "text/plain": [
       "array([[1., 1., 1.],\n",
       "       [1., 1., 1.],\n",
       "       [1., 1., 1.]])"
      ]
     },
     "execution_count": 135,
     "metadata": {},
     "output_type": "execute_result"
    }
   ],
   "source": [
    "## Producto punto\n",
    "np.dot(np.identity(3),np.ones((3,3)))"
   ]
  },
  {
   "cell_type": "code",
   "execution_count": 137,
   "metadata": {},
   "outputs": [
    {
     "data": {
      "text/plain": [
       "7.810249675906654"
      ]
     },
     "execution_count": 137,
     "metadata": {},
     "output_type": "execute_result"
    }
   ],
   "source": [
    "a= np.array([5,6])\n",
    "np.sqrt(np.dot(a,a))"
   ]
  },
  {
   "cell_type": "code",
   "execution_count": 139,
   "metadata": {},
   "outputs": [
    {
     "name": "stdout",
     "output_type": "stream",
     "text": [
      "[[1 2]\n",
      " [3 4]]\n",
      "[[1 3]\n",
      " [2 4]]\n"
     ]
    }
   ],
   "source": [
    "## Trasponer una matriz\n",
    "Transpuesta = np.array([[1,2],[3,4]])\n",
    "print(Transpuesta)\n",
    "print(Transpuesta.T)"
   ]
  },
  {
   "cell_type": "code",
   "execution_count": 140,
   "metadata": {},
   "outputs": [
    {
     "data": {
      "text/plain": [
       "array([[-2. ,  1. ],\n",
       "       [ 1.5, -0.5]])"
      ]
     },
     "execution_count": 140,
     "metadata": {},
     "output_type": "execute_result"
    }
   ],
   "source": [
    "np.linalg.inv(Transpuesta)"
   ]
  },
  {
   "cell_type": "code",
   "execution_count": 141,
   "metadata": {},
   "outputs": [
    {
     "data": {
      "text/plain": [
       "array([1, 4])"
      ]
     },
     "execution_count": 141,
     "metadata": {},
     "output_type": "execute_result"
    }
   ],
   "source": [
    "## Diagonal\n",
    "np.diag(Transpuesta)"
   ]
  },
  {
   "cell_type": "code",
   "execution_count": 142,
   "metadata": {},
   "outputs": [
    {
     "data": {
      "text/plain": [
       "array([[ 1,  0,  0,  0,  0,  0,  0,  0,  0,  0],\n",
       "       [ 0,  2,  0,  0,  0,  0,  0,  0,  0,  0],\n",
       "       [ 0,  0,  3,  0,  0,  0,  0,  0,  0,  0],\n",
       "       [ 0,  0,  0,  4,  0,  0,  0,  0,  0,  0],\n",
       "       [ 0,  0,  0,  0,  5,  0,  0,  0,  0,  0],\n",
       "       [ 0,  0,  0,  0,  0,  6,  0,  0,  0,  0],\n",
       "       [ 0,  0,  0,  0,  0,  0,  7,  0,  0,  0],\n",
       "       [ 0,  0,  0,  0,  0,  0,  0,  8,  0,  0],\n",
       "       [ 0,  0,  0,  0,  0,  0,  0,  0,  9,  0],\n",
       "       [ 0,  0,  0,  0,  0,  0,  0,  0,  0, 10]])"
      ]
     },
     "execution_count": 142,
     "metadata": {},
     "output_type": "execute_result"
    }
   ],
   "source": [
    "np.diag([1,2,3,4,5,6,7,8,9,10])"
   ]
  },
  {
   "cell_type": "markdown",
   "metadata": {},
   "source": [
    "## Algunos gráficos\n",
    "\n"
   ]
  },
  {
   "cell_type": "code",
   "execution_count": 148,
   "metadata": {},
   "outputs": [
    {
     "data": {
      "text/plain": [
       "[<matplotlib.lines.Line2D at 0x122097908>]"
      ]
     },
     "execution_count": 148,
     "metadata": {},
     "output_type": "execute_result"
    },
    {
     "data": {
      "image/png": "[encoded data removed]",
      "text/plain": [
       "<Figure size 432x288 with 1 Axes>"
      ]
     },
     "metadata": {},
     "output_type": "display_data"
    }
   ],
   "source": [
    "x,y = [0,1,2,3,4,5],[0,1,4,6,9,12]\n",
    "plt.title(\"Gráfico Random\")\n",
    "plt.xlabel(\"X Label\")\n",
    "plt.plot(x,y)"
   ]
  },
  {
   "cell_type": "code",
   "execution_count": 149,
   "metadata": {},
   "outputs": [
    {
     "data": {
      "text/plain": [
       "[<matplotlib.lines.Line2D at 0x122182748>]"
      ]
     },
     "execution_count": 149,
     "metadata": {},
     "output_type": "execute_result"
    },
    {
     "data": {
      "image/png": "[encoded data removed]",
      "text/plain": [
       "<Figure size 432x288 with 1 Axes>"
      ]
     },
     "metadata": {},
     "output_type": "display_data"
    }
   ],
   "source": [
    "x,y = [0,1,2,3,4,5],[0,1,4,6,9,12]\n",
    "plt.title(\"Gráfico Random\")\n",
    "plt.xlabel(\"X Label\")\n",
    "plt.plot(x,y,'bo')"
   ]
  },
  {
   "cell_type": "code",
   "execution_count": 150,
   "metadata": {},
   "outputs": [
    {
     "data": {
      "text/plain": [
       "[<matplotlib.lines.Line2D at 0x1221a1588>]"
      ]
     },
     "execution_count": 150,
     "metadata": {},
     "output_type": "execute_result"
    },
    {
     "data": {
      "image/png": "[encoded data removed]",
      "text/plain": [
       "<Figure size 432x288 with 1 Axes>"
      ]
     },
     "metadata": {},
     "output_type": "display_data"
    }
   ],
   "source": [
    "## Otra forma de tratar los datos\n",
    "plt.semilogy(x,y)"
   ]
  },
  {
   "cell_type": "code",
   "execution_count": 151,
   "metadata": {},
   "outputs": [
    {
     "data": {
      "text/plain": [
       "[<matplotlib.lines.Line2D at 0x1223a8f98>]"
      ]
     },
     "execution_count": 151,
     "metadata": {},
     "output_type": "execute_result"
    },
    {
     "data": {
      "image/png": "[encoded data removed]",
      "text/plain": [
       "<Figure size 432x288 with 1 Axes>"
      ]
     },
     "metadata": {},
     "output_type": "display_data"
    }
   ],
   "source": [
    "plt.semilogy(x,y,'bo')"
   ]
  },
  {
   "cell_type": "code",
   "execution_count": 153,
   "metadata": {},
   "outputs": [
    {
     "data": {
      "image/png": "[encoded data removed]",
      "text/plain": [
       "<Figure size 648x432 with 1 Axes>"
      ]
     },
     "metadata": {
      "needs_background": "light"
     },
     "output_type": "display_data"
    }
   ],
   "source": [
    "import numpy as np\n",
    "import matplotlib.pyplot as plt\n",
    "from scipy.stats import norm\n",
    "# if using a Jupyter notebook, inlcude:\n",
    "%matplotlib inline\n",
    "\n",
    "mu = 998.8 \n",
    "sigma = 73.10\n",
    "x1 = 900\n",
    "x2 = 1100\n",
    "\n",
    "z1 = ( x1 - mu ) / sigma\n",
    "z2 = ( x2 - mu ) / sigma\n",
    "\n",
    "x = np.arange(z1, z2, 0.001) \n",
    "x_all = np.arange(-10, 10, 0.001) \n",
    "\n",
    "y = norm.pdf(x,0,1)\n",
    "y2 = norm.pdf(x_all,0,1)\n",
    "fig, ax = plt.subplots(figsize=(9,6))\n",
    "plt.style.use('fivethirtyeight')\n",
    "ax.plot(x_all,y2)\n",
    "\n",
    "ax.fill_between(x,y,0, alpha=0.3, color='b')\n",
    "ax.fill_between(x_all,y2,0, alpha=0.1)\n",
    "ax.set_xlim([-4,4])\n",
    "ax.set_xlabel('# of Standard Deviations Outside the Mean')\n",
    "ax.set_yticklabels([])\n",
    "ax.set_title('Normal Gaussian Curve')\n",
    "\n",
    "plt.savefig('normal_curve.png', dpi=72, bbox_inches='tight')\n",
    "plt.show()"
   ]
  },
  {
   "cell_type": "markdown",
   "metadata": {},
   "source": [
    "## Simulación de montecarlo y números aleatorios"
   ]
  },
  {
   "cell_type": "code",
   "execution_count": 154,
   "metadata": {},
   "outputs": [
    {
     "data": {
      "text/plain": [
       "[<matplotlib.lines.Line2D at 0x1a24499e48>]"
      ]
     },
     "execution_count": 154,
     "metadata": {},
     "output_type": "execute_result"
    },
    {
     "data": {
      "image/png": "[encoded data removed]",
      "text/plain": [
       "<Figure size 432x288 with 1 Axes>"
      ]
     },
     "metadata": {},
     "output_type": "display_data"
    }
   ],
   "source": [
    "from random import random\n",
    "rands = []\n",
    "for i in range(30):\n",
    "    rands.append(random())\n",
    "plt.plot(rands)"
   ]
  },
  {
   "cell_type": "code",
   "execution_count": 155,
   "metadata": {},
   "outputs": [
    {
     "data": {
      "text/plain": [
       "[<matplotlib.lines.Line2D at 0x1a244c8be0>]"
      ]
     },
     "execution_count": 155,
     "metadata": {},
     "output_type": "execute_result"
    },
    {
     "data": {
      "image/png": "[encoded data removed]",
      "text/plain": [
       "<Figure size 432x288 with 1 Axes>"
      ]
     },
     "metadata": {},
     "output_type": "display_data"
    }
   ],
   "source": [
    "from random import random\n",
    "rands = []\n",
    "for i in range(300):\n",
    "    rands.append(random())\n",
    "plt.plot(rands)"
   ]
  },
  {
   "cell_type": "code",
   "execution_count": 156,
   "metadata": {},
   "outputs": [
    {
     "data": {
      "text/plain": [
       "[<matplotlib.lines.Line2D at 0x10eb2e438>]"
      ]
     },
     "execution_count": 156,
     "metadata": {},
     "output_type": "execute_result"
    },
    {
     "data": {
      "image/png": "[encoded data removed]",
      "text/plain": [
       "<Figure size 432x288 with 1 Axes>"
      ]
     },
     "metadata": {},
     "output_type": "display_data"
    }
   ],
   "source": [
    "## Una forma de hacer randoms bajo una condición\n",
    "from random import gauss\n",
    "grands = []\n",
    "for i in range(200):\n",
    "    grands.append(gauss(0,1))\n",
    "plt.plot(grands)"
   ]
  }
 ],
 "metadata": {
  "kernelspec": {
   "display_name": "Python 3",
   "language": "python",
   "name": "python3"
  },
  "language_info": {
   "codemirror_mode": {
    "name": "ipython",
    "version": 3
   },
   "file_extension": ".py",
   "mimetype": "text/x-python",
   "name": "python",
   "nbconvert_exporter": "python",
   "pygments_lexer": "ipython3",
   "version": "3.7.3"
  }
 },
 "nbformat": 4,
 "nbformat_minor": 4
}
